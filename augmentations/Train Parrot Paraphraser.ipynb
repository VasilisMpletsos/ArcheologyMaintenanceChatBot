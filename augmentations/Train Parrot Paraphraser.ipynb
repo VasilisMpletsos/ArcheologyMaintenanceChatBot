{
 "cells": [
  {
   "cell_type": "code",
   "execution_count": 7,
   "metadata": {},
   "outputs": [],
   "source": [
    "import torch\n",
    "import pandas as pd\n",
    "import numpy as np\n",
    "import torch.optim as optim\n",
    "from datasets import load_dataset\n",
    "# This one is for paraphrasing\n",
    "from transformers import AutoTokenizer, AutoModelForSeq2SeqLM"
   ]
  },
  {
   "cell_type": "code",
   "execution_count": 8,
   "metadata": {},
   "outputs": [],
   "source": [
    "torch.backends.cuda.matmul.allow_tf32 = True"
   ]
  },
  {
   "cell_type": "code",
   "execution_count": 9,
   "metadata": {},
   "outputs": [],
   "source": [
    "tokenizer = AutoTokenizer.from_pretrained(\"prithivida/parrot_paraphraser_on_T5\")\n",
    "model = AutoModelForSeq2SeqLM.from_pretrained(\"prithivida/parrot_paraphraser_on_T5\")"
   ]
  },
  {
   "cell_type": "code",
   "execution_count": 10,
   "metadata": {},
   "outputs": [],
   "source": [
    "model.to('cuda');"
   ]
  },
  {
   "cell_type": "code",
   "execution_count": 16,
   "metadata": {},
   "outputs": [
    {
     "name": "stdout",
     "output_type": "stream",
     "text": [
      "Downloading and preparing dataset csv/default to C:/Users/vmpletsos/.cache/huggingface/datasets/csv/default-4468969375aafa41/0.0.0/6b34fb8fcf56f7c8ba51dc895bfa2bfbe43546f190a60fcf74bb5e8afdcc2317...\n"
     ]
    },
    {
     "name": "stderr",
     "output_type": "stream",
     "text": [
      "Downloading data files: 100%|██████████| 1/1 [00:00<00:00, 1000.31it/s]\n",
      "Extracting data files: 100%|██████████| 1/1 [00:00<00:00, 499.68it/s]\n",
      "Generating train split: 0 examples [00:00, ? examples/s]c:\\Users\\vmpletsos\\Anaconda3\\envs\\guide\\lib\\site-packages\\datasets\\download\\streaming_download_manager.py:776: FutureWarning: the 'mangle_dupe_cols' keyword is deprecated and will be removed in a future version. Please take steps to stop the use of 'mangle_dupe_cols'\n",
      "  return pd.read_csv(xopen(filepath_or_buffer, \"rb\", use_auth_token=use_auth_token), **kwargs)\n",
      "                                                        \r"
     ]
    },
    {
     "name": "stdout",
     "output_type": "stream",
     "text": [
      "Dataset csv downloaded and prepared to C:/Users/vmpletsos/.cache/huggingface/datasets/csv/default-4468969375aafa41/0.0.0/6b34fb8fcf56f7c8ba51dc895bfa2bfbe43546f190a60fcf74bb5e8afdcc2317. Subsequent calls will reuse this data.\n"
     ]
    },
    {
     "name": "stderr",
     "output_type": "stream",
     "text": [
      "100%|██████████| 1/1 [00:00<00:00, 500.51it/s]\n"
     ]
    }
   ],
   "source": [
    "dataset = load_dataset(\"csv\", data_files='./Paraphraser Train.csv')\n",
    "dataset = dataset['train']"
   ]
  },
  {
   "cell_type": "code",
   "execution_count": 17,
   "metadata": {},
   "outputs": [],
   "source": [
    "epochs = 2\n",
    "max_length = 256\n",
    "task_prefix = \"paraphrase: \"\n",
    "batch_size = 5\n",
    "gradient_accumulations_steps = 4"
   ]
  },
  {
   "cell_type": "code",
   "execution_count": 18,
   "metadata": {},
   "outputs": [],
   "source": [
    "dataset_length = len(dataset)"
   ]
  },
  {
   "cell_type": "code",
   "execution_count": 19,
   "metadata": {},
   "outputs": [],
   "source": [
    "optimizer = optim.Adam(\n",
    "            params=model.parameters(),\n",
    "            lr=5e-4,\n",
    "            betas=(0.9, 0.999),\n",
    "            eps=1e-08,\n",
    "            amsgrad=False,\n",
    "            weight_decay=1e-5\n",
    "        )"
   ]
  },
  {
   "cell_type": "code",
   "execution_count": 20,
   "metadata": {},
   "outputs": [
    {
     "name": "stdout",
     "output_type": "stream",
     "text": [
      "Epoch 1 Loss/train 3.4348686933517456\n",
      "Epoch 2 Loss/train 1.6255252659320831\n"
     ]
    }
   ],
   "source": [
    "for epoch in range(epochs):\n",
    "    # Set the model to training mode\n",
    "    model.train()\n",
    "    epoch_loss = 0\n",
    "    j = 0\n",
    "    while j < dataset_length:\n",
    "        if j + batch_size > dataset_length:\n",
    "            originals = dataset[j:len(dataset)]['original']\n",
    "            paraphrases = dataset[j:len(dataset)]['paraphrase']\n",
    "        else:\n",
    "            originals = dataset[j:j + batch_size]['original']\n",
    "            paraphrases = dataset[j:j + batch_size]['paraphrase']\n",
    "        j += batch_size \n",
    "        \n",
    "        encoding = tokenizer(\n",
    "            [task_prefix + original for original in originals],\n",
    "            padding=\"longest\",\n",
    "            max_length=max_length,\n",
    "            truncation=True,\n",
    "            return_tensors=\"pt\",\n",
    "        )\n",
    "        input_ids, attention_mask = encoding.input_ids, encoding.attention_mask\n",
    "        \n",
    "        target_encoding = tokenizer(\n",
    "            paraphrases,\n",
    "            padding=\"longest\",\n",
    "            max_length=max_length,\n",
    "            truncation=True,\n",
    "            return_tensors=\"pt\",\n",
    "        )\n",
    "        labels = target_encoding.input_ids\n",
    "        # replace padding token id's of the labels by -100 so it's ignored by the loss\n",
    "        labels[labels == tokenizer.pad_token_id] = -100\n",
    "        \n",
    "        # Zero the gradients\n",
    "        optimizer.zero_grad()\n",
    "        \n",
    "        input_ids = input_ids.to('cuda')\n",
    "        attention_mask = attention_mask.to('cuda')\n",
    "        labels = labels.to('cuda')\n",
    "        \n",
    "        # forward pass\n",
    "        loss = model(input_ids=input_ids, attention_mask=attention_mask, labels=labels).loss\n",
    "        epoch_loss += loss.item()\n",
    "        loss.backward()\n",
    "        # (loss / gradient_accumulations_steps).backward()\n",
    "        \n",
    "        optimizer.step()\n",
    "        # # Backward pass and optimization step\n",
    "        # if (j+1) % gradient_accumulations_steps == 0:\n",
    "        #     model.zero_grad()\n",
    "    print('Epoch', epoch+1, 'Loss/train', epoch_loss/dataset_length)\n",
    "    "
   ]
  },
  {
   "cell_type": "code",
   "execution_count": 29,
   "metadata": {},
   "outputs": [],
   "source": [
    "# get 2 instructions from the dataset\n",
    "questions = ['How to maintain marble with cracks?', 'How to remove rust stains from corroded connectors?', 'Will the project be finished on time and everything will be ok']\n",
    "question_inputs = tokenizer([task_prefix + question for question in questions], return_tensors=\"pt\", padding=True)\n",
    "question_inputs = question_inputs.to('cuda')"
   ]
  },
  {
   "cell_type": "code",
   "execution_count": 32,
   "metadata": {},
   "outputs": [],
   "source": [
    "preds = model.generate(\n",
    "              question_inputs['input_ids'],\n",
    "              do_sample=False, \n",
    "              max_length=max_length, \n",
    "              num_beams = 10,\n",
    "              num_beam_groups = 2,\n",
    "              diversity_penalty = 2.0,\n",
    "              early_stopping=True,\n",
    "              num_return_sequences=3\n",
    "              )"
   ]
  },
  {
   "cell_type": "code",
   "execution_count": 33,
   "metadata": {},
   "outputs": [],
   "source": [
    "predicted_answers = tokenizer.batch_decode(preds, skip_special_tokens=True, clean_up_tokenization_spaces=True)"
   ]
  },
  {
   "cell_type": "code",
   "execution_count": 34,
   "metadata": {},
   "outputs": [
    {
     "data": {
      "text/plain": [
       "['How to maintain marble with cracks?',\n",
       " 'How to maintain the marble with cracks?',\n",
       " 'How to maintain a marble with cracks?',\n",
       " 'How to remove rust stains from corroded connectors?',\n",
       " 'How to clean rust stains from corroded connectors?',\n",
       " 'How to clear rust stains from corroded connectors?',\n",
       " 'Will the project be completed on time and everything will be okay',\n",
       " 'Will the project be finished on time and everything will be ok?',\n",
       " 'Will the project be completed on time and everything will be ok']"
      ]
     },
     "execution_count": 34,
     "metadata": {},
     "output_type": "execute_result"
    }
   ],
   "source": [
    "predicted_answers"
   ]
  },
  {
   "cell_type": "code",
   "execution_count": null,
   "metadata": {},
   "outputs": [],
   "source": []
  }
 ],
 "metadata": {
  "kernelspec": {
   "display_name": "guide",
   "language": "python",
   "name": "python3"
  },
  "language_info": {
   "codemirror_mode": {
    "name": "ipython",
    "version": 3
   },
   "file_extension": ".py",
   "mimetype": "text/x-python",
   "name": "python",
   "nbconvert_exporter": "python",
   "pygments_lexer": "ipython3",
   "version": "3.9.16"
  },
  "orig_nbformat": 4
 },
 "nbformat": 4,
 "nbformat_minor": 2
}
