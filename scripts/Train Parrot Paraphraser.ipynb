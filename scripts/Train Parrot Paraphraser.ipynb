{
 "cells": [
  {
   "cell_type": "code",
   "execution_count": 6,
   "metadata": {},
   "outputs": [],
   "source": [
    "import torch\n",
    "import pandas as pd\n",
    "import numpy as np\n",
    "import torch.optim as optim\n",
    "import matplotlib.pyplot as plt\n",
    "\n",
    "from datasets import load_dataset\n",
    "# This one is for paraphrasing\n",
    "from transformers import AutoTokenizer, AutoModelForSeq2SeqLM"
   ]
  },
  {
   "cell_type": "code",
   "execution_count": 7,
   "metadata": {},
   "outputs": [],
   "source": [
    "torch.backends.cuda.matmul.allow_tf32 = True"
   ]
  },
  {
   "cell_type": "code",
   "execution_count": 25,
   "metadata": {},
   "outputs": [],
   "source": [
    "tokenizer = AutoTokenizer.from_pretrained(\"prithivida/parrot_paraphraser_on_T5\")\n",
    "model = AutoModelForSeq2SeqLM.from_pretrained(\"prithivida/parrot_paraphraser_on_T5\")"
   ]
  },
  {
   "cell_type": "code",
   "execution_count": 26,
   "metadata": {},
   "outputs": [],
   "source": [
    "model.to('cuda');"
   ]
  },
  {
   "cell_type": "code",
   "execution_count": 27,
   "metadata": {},
   "outputs": [
    {
     "name": "stderr",
     "output_type": "stream",
     "text": [
      "Found cached dataset csv (C:/Users/vmpletsos/.cache/huggingface/datasets/csv/default-d4c41a77edc2baed/0.0.0/6b34fb8fcf56f7c8ba51dc895bfa2bfbe43546f190a60fcf74bb5e8afdcc2317)\n",
      "100%|██████████| 1/1 [00:00<00:00, 999.60it/s]\n"
     ]
    }
   ],
   "source": [
    "dataset = load_dataset(\"csv\", data_files='./Paraphraser Train.csv')\n",
    "dataset = dataset['train']"
   ]
  },
  {
   "cell_type": "code",
   "execution_count": 32,
   "metadata": {},
   "outputs": [],
   "source": [
    "epochs = 20\n",
    "max_length = 1026\n",
    "task_prefix = \"paraphrase: \"\n",
    "batch_size = 16\n",
    "gradient_accumulations_steps = 0"
   ]
  },
  {
   "cell_type": "code",
   "execution_count": 33,
   "metadata": {},
   "outputs": [],
   "source": [
    "dataset_length = len(dataset)"
   ]
  },
  {
   "cell_type": "code",
   "execution_count": 34,
   "metadata": {},
   "outputs": [],
   "source": [
    "optimizer = optim.Adam(\n",
    "            params=model.parameters(),\n",
    "            lr=1e-5,\n",
    "            betas=(0.9, 0.999),\n",
    "            eps=1e-08,\n",
    "            amsgrad=False,\n",
    "            weight_decay=1e-5\n",
    "        )"
   ]
  },
  {
   "cell_type": "code",
   "execution_count": 35,
   "metadata": {},
   "outputs": [
    {
     "name": "stdout",
     "output_type": "stream",
     "text": [
      "Epoch 1 Loss/train 0.07988641552022986\n",
      "Epoch 2 Loss/train 0.07657595314421095\n",
      "Epoch 3 Loss/train 0.07182532871091687\n",
      "Epoch 4 Loss/train 0.0702965936145267\n",
      "Epoch 5 Loss/train 0.06843806440765793\n",
      "Epoch 6 Loss/train 0.06547714675868954\n",
      "Epoch 7 Loss/train 0.06315946578979492\n",
      "Epoch 8 Loss/train 0.060984714074177784\n",
      "Epoch 9 Loss/train 0.06222971119322218\n",
      "Epoch 10 Loss/train 0.059462761556780014\n",
      "Epoch 11 Loss/train 0.05753916018717998\n",
      "Epoch 12 Loss/train 0.05678482420809634\n",
      "Epoch 13 Loss/train 0.05657145085635486\n",
      "Epoch 14 Loss/train 0.053986926336546205\n",
      "Epoch 15 Loss/train 0.05292409067755347\n",
      "Epoch 16 Loss/train 0.05214990474082328\n",
      "Epoch 17 Loss/train 0.052843397265082005\n",
      "Epoch 18 Loss/train 0.04940627126006393\n",
      "Epoch 19 Loss/train 0.049330980928094535\n",
      "Epoch 20 Loss/train 0.04787724028836499\n"
     ]
    }
   ],
   "source": [
    "losses = []\n",
    "for epoch in range(epochs):\n",
    "    # Set the model to training mode\n",
    "    model.train()\n",
    "    epoch_loss = 0\n",
    "    j = 0\n",
    "    while j < dataset_length:\n",
    "        if j + batch_size > dataset_length:\n",
    "            originals = dataset[j:len(dataset)]['original']\n",
    "            paraphrases = dataset[j:len(dataset)]['paraphrase']\n",
    "        else:\n",
    "            originals = dataset[j:j + batch_size]['original']\n",
    "            paraphrases = dataset[j:j + batch_size]['paraphrase']\n",
    "        j += batch_size \n",
    "        \n",
    "        encoding = tokenizer(\n",
    "            [task_prefix + original for original in originals],\n",
    "            padding=\"longest\",\n",
    "            max_length=max_length,\n",
    "            truncation=True,\n",
    "            return_tensors=\"pt\",\n",
    "        )\n",
    "        input_ids, attention_mask = encoding.input_ids, encoding.attention_mask\n",
    "        \n",
    "        target_encoding = tokenizer(\n",
    "            paraphrases,\n",
    "            padding=\"longest\",\n",
    "            max_length=max_length,\n",
    "            truncation=True,\n",
    "            return_tensors=\"pt\",\n",
    "        )\n",
    "        labels = target_encoding.input_ids\n",
    "        # replace padding token id's of the labels by -100 so it's ignored by the loss\n",
    "        labels[labels == tokenizer.pad_token_id] = -100\n",
    "        \n",
    "        # Zero the gradients\n",
    "        optimizer.zero_grad()\n",
    "        \n",
    "        input_ids = input_ids.to('cuda')\n",
    "        attention_mask = attention_mask.to('cuda')\n",
    "        labels = labels.to('cuda')\n",
    "        \n",
    "        # forward pass\n",
    "        loss = model(input_ids=input_ids, attention_mask=attention_mask, labels=labels).loss\n",
    "        epoch_loss += loss.item()\n",
    "        loss.backward()\n",
    "        # (loss / gradient_accumulations_steps).backward()\n",
    "        \n",
    "        optimizer.step()\n",
    "        # # Backward pass and optimization step\n",
    "        # if (j+1) % gradient_accumulations_steps == 0:\n",
    "        #     model.zero_grad()\n",
    "    print('Epoch', epoch+1, 'Loss/train', epoch_loss/dataset_length)\n",
    "    losses.append(epoch_loss/dataset_length)\n",
    "    "
   ]
  },
  {
   "cell_type": "code",
   "execution_count": 36,
   "metadata": {},
   "outputs": [],
   "source": [
    "# get 2 instructions from the dataset\n",
    "questions = ['How to maintain marble with cracks?', 'How to remove rust stains from corroded connectors?', 'Will the project be finished on time and everything will be ok']\n",
    "question_inputs = tokenizer([task_prefix + question for question in questions], return_tensors=\"pt\", padding=True)\n",
    "question_inputs = question_inputs.to('cuda')"
   ]
  },
  {
   "cell_type": "code",
   "execution_count": 44,
   "metadata": {},
   "outputs": [
    {
     "data": {
      "image/png": "[encoded data removed]",
      "text/plain": [
       "<Figure size 700x300 with 1 Axes>"
      ]
     },
     "metadata": {},
     "output_type": "display_data"
    }
   ],
   "source": [
    "plt.figure(figsize=(7,3))\n",
    "plt.title('Seq2Seq Loss')\n",
    "plt.plot(losses)\n",
    "plt.grid()"
   ]
  },
  {
   "cell_type": "code",
   "execution_count": 49,
   "metadata": {},
   "outputs": [],
   "source": [
    "preds = model.generate(\n",
    "              question_inputs['input_ids'],\n",
    "              do_sample=False, \n",
    "              max_length=max_length, \n",
    "              num_beams = 10,\n",
    "              num_beam_groups = 2,\n",
    "              diversity_penalty = 2.0,\n",
    "              early_stopping=True,\n",
    "              num_return_sequences=10\n",
    "              )"
   ]
  },
  {
   "cell_type": "code",
   "execution_count": 50,
   "metadata": {},
   "outputs": [],
   "source": [
    "predicted_answers = tokenizer.batch_decode(preds, skip_special_tokens=True, clean_up_tokenization_spaces=True)"
   ]
  },
  {
   "cell_type": "code",
   "execution_count": 51,
   "metadata": {},
   "outputs": [
    {
     "data": {
      "text/plain": [
       "['How to maintain marble with cracks?',\n",
       " 'How to protect marble with cracks?',\n",
       " 'How to keep marble with cracks?',\n",
       " 'How to keep marble without cracks?',\n",
       " 'How do you fix cracks in marble?',\n",
       " 'Is there a way to maintain marble with cracks?',\n",
       " 'Is there a way to keep marble with cracks?',\n",
       " 'Is there any way to prevent cracks in marble?',\n",
       " 'Is there a way to maintain marble without cracks?',\n",
       " 'Is there a way to repair marble with cracks?',\n",
       " 'How to remove rust stains from corroded connectors?',\n",
       " 'How do I remove rust stains from corroded connectors?',\n",
       " 'How do you remove rust stains from corroded connectors?',\n",
       " 'How to remove rust from corroded connectors?',\n",
       " 'Tell me the best way to remove rust from corroded connectors?',\n",
       " 'How to remove rust stains from corroded connectors',\n",
       " 'How to remove rust stains from corroded connectors? ',\n",
       " 'How to remove rust stains from corroded connectors??',\n",
       " 'How rust can be removed from corroded connectors?',\n",
       " 'How rust can be removed from corroded connections?',\n",
       " 'Will the project be completed on time and everything will be okay',\n",
       " 'Will the project be completed on time and everything will be ok',\n",
       " 'Will the project be finished on time and everything will be ok',\n",
       " 'Will the project be finished on time and everything will be okay',\n",
       " 'Will the project be completed in time and everything will be ok',\n",
       " 'Will the project be completed on time and everything will be ok.',\n",
       " 'Will the project be finished on time and everything will be ok?',\n",
       " 'Will the project be completed on time and everything will be ok?',\n",
       " 'Will the project be completed in time and everything will be ok.',\n",
       " 'Will the project be completed in time and everything will be ok?']"
      ]
     },
     "execution_count": 51,
     "metadata": {},
     "output_type": "execute_result"
    }
   ],
   "source": [
    "predicted_answers"
   ]
  },
  {
   "cell_type": "code",
   "execution_count": null,
   "metadata": {},
   "outputs": [],
   "source": []
  }
 ],
 "metadata": {
  "kernelspec": {
   "display_name": "guide",
   "language": "python",
   "name": "python3"
  },
  "language_info": {
   "codemirror_mode": {
    "name": "ipython",
    "version": 3
   },
   "file_extension": ".py",
   "mimetype": "text/x-python",
   "name": "python",
   "nbconvert_exporter": "python",
   "pygments_lexer": "ipython3",
   "version": "3.9.16"
  },
  "orig_nbformat": 4
 },
 "nbformat": 4,
 "nbformat_minor": 2
}
