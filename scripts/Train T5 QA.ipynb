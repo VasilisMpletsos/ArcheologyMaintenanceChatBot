{
 "cells": [
  {
   "cell_type": "code",
   "execution_count": 1,
   "metadata": {},
   "outputs": [
    {
     "name": "stderr",
     "output_type": "stream",
     "text": [
      "c:\\Users\\vmpletsos\\Anaconda3\\envs\\guide\\lib\\site-packages\\tqdm\\auto.py:21: TqdmWarning: IProgress not found. Please update jupyter and ipywidgets. See https://ipywidgets.readthedocs.io/en/stable/user_install.html\n",
      "  from .autonotebook import tqdm as notebook_tqdm\n"
     ]
    }
   ],
   "source": [
    "import torch\n",
    "import pandas as pd\n",
    "import numpy as np\n",
    "import torch.optim as optim\n",
    "from datasets import load_dataset\n",
    "from transformers import T5Tokenizer, T5ForConditionalGeneration\n"
   ]
  },
  {
   "cell_type": "code",
   "execution_count": 2,
   "metadata": {},
   "outputs": [],
   "source": [
    "torch.backends.cuda.matmul.allow_tf32 = True"
   ]
  },
  {
   "cell_type": "code",
   "execution_count": 3,
   "metadata": {},
   "outputs": [
    {
     "name": "stderr",
     "output_type": "stream",
     "text": [
      "c:\\Users\\vmpletsos\\Anaconda3\\envs\\guide\\lib\\site-packages\\transformers\\models\\t5\\tokenization_t5.py:163: FutureWarning: This tokenizer was incorrectly instantiated with a model max length of 512 which will be corrected in Transformers v5.\n",
      "For now, this behavior is kept to avoid breaking backwards compatibility when padding/encoding with `truncation is True`.\n",
      "- Be aware that you SHOULD NOT rely on t5-base automatically truncating your input to 512 when padding/encoding.\n",
      "- If you want to encode/pad to sequences longer than 512 you can either instantiate this tokenizer with `model_max_length` or pass `max_length` when encoding/padding.\n",
      "- To avoid this warning, please instantiate this tokenizer with `model_max_length` set to your preferred value.\n",
      "  warnings.warn(\n"
     ]
    }
   ],
   "source": [
    "tokenizer = T5Tokenizer.from_pretrained(\"t5-base\")\n",
    "model = T5ForConditionalGeneration.from_pretrained(\"t5-base\")"
   ]
  },
  {
   "cell_type": "code",
   "execution_count": 4,
   "metadata": {},
   "outputs": [],
   "source": [
    "model.to('cuda');"
   ]
  },
  {
   "cell_type": "code",
   "execution_count": 28,
   "metadata": {},
   "outputs": [],
   "source": [
    "use_own_data = True"
   ]
  },
  {
   "cell_type": "code",
   "execution_count": 29,
   "metadata": {},
   "outputs": [
    {
     "name": "stderr",
     "output_type": "stream",
     "text": [
      "Found cached dataset csv (C:/Users/vmpletsos/.cache/huggingface/datasets/csv/default-11a7215d1340ed0f/0.0.0/6b34fb8fcf56f7c8ba51dc895bfa2bfbe43546f190a60fcf74bb5e8afdcc2317)\n",
      "100%|██████████| 1/1 [00:00<00:00, 499.98it/s]\n"
     ]
    }
   ],
   "source": [
    "if use_own_data:\n",
    "    dataset = load_dataset(\"csv\", data_files='./LLM dataset train clean.csv')\n",
    "    dataset = dataset['train']\n",
    "else:\n",
    "    # Load the dataset but get first 1000 examples\n",
    "    dataset = load_dataset(\"databricks/databricks-dolly-15k\")[\"train\"].select(range(1000))"
   ]
  },
  {
   "cell_type": "code",
   "execution_count": 30,
   "metadata": {},
   "outputs": [],
   "source": [
    "epochs = 2\n",
    "max_length = 256\n",
    "task_prefix = \"answer question: \"\n",
    "batch_size = 5\n",
    "gradient_accumulations_steps = 4"
   ]
  },
  {
   "cell_type": "code",
   "execution_count": 31,
   "metadata": {},
   "outputs": [],
   "source": [
    "dataset_length = len(dataset)"
   ]
  },
  {
   "cell_type": "code",
   "execution_count": 32,
   "metadata": {},
   "outputs": [],
   "source": [
    "optimizer = optim.Adam(\n",
    "            params=model.parameters(),\n",
    "            lr=1e-5,\n",
    "            betas=(0.9, 0.999),\n",
    "            eps=1e-08,\n",
    "            amsgrad=False,\n",
    "            weight_decay=1e-5\n",
    "        )"
   ]
  },
  {
   "cell_type": "code",
   "execution_count": 33,
   "metadata": {},
   "outputs": [
    {
     "name": "stdout",
     "output_type": "stream",
     "text": [
      "Epoch 1 Loss/train 0.5208774707755264\n",
      "Epoch 2 Loss/train 0.37045252809719165\n"
     ]
    }
   ],
   "source": [
    "for epoch in range(epochs):\n",
    "    # Set the model to training mode\n",
    "    model.train()\n",
    "    epoch_loss = 0\n",
    "    j = 0\n",
    "    while j < dataset_length:\n",
    "        if j + batch_size > dataset_length:\n",
    "            instructions = dataset[j:len(dataset)]['instruction']\n",
    "            responses = dataset[j:len(dataset)]['response']\n",
    "        else:\n",
    "            instructions = dataset[j:j + batch_size]['instruction']\n",
    "            responses = dataset[j:j + batch_size]['response']\n",
    "        j += batch_size \n",
    "        \n",
    "        encoding = tokenizer(\n",
    "            [task_prefix + sequence for sequence in instructions],\n",
    "            padding=\"longest\",\n",
    "            max_length=max_length,\n",
    "            truncation=True,\n",
    "            return_tensors=\"pt\",\n",
    "        )\n",
    "        input_ids, attention_mask = encoding.input_ids, encoding.attention_mask\n",
    "        \n",
    "        target_encoding = tokenizer(\n",
    "            responses,\n",
    "            padding=\"longest\",\n",
    "            max_length=max_length,\n",
    "            truncation=True,\n",
    "            return_tensors=\"pt\",\n",
    "        )\n",
    "        labels = target_encoding.input_ids\n",
    "        # replace padding token id's of the labels by -100 so it's ignored by the loss\n",
    "        labels[labels == tokenizer.pad_token_id] = -100\n",
    "        \n",
    "        # Zero the gradients\n",
    "        optimizer.zero_grad()\n",
    "        \n",
    "        input_ids = input_ids.to('cuda')\n",
    "        attention_mask = attention_mask.to('cuda')\n",
    "        labels = labels.to('cuda')\n",
    "        \n",
    "        # forward pass\n",
    "        loss = model(input_ids=input_ids, attention_mask=attention_mask, labels=labels).loss\n",
    "        epoch_loss += loss.item()\n",
    "        loss.backward()\n",
    "        # (loss / gradient_accumulations_steps).backward()\n",
    "        \n",
    "        optimizer.step()\n",
    "        # # Backward pass and optimization step\n",
    "        # if (j+1) % gradient_accumulations_steps == 0:\n",
    "        #     model.zero_grad()\n",
    "    print('Epoch', epoch+1, 'Loss/train', epoch_loss/dataset_length)\n",
    "    "
   ]
  },
  {
   "cell_type": "code",
   "execution_count": 34,
   "metadata": {},
   "outputs": [],
   "source": [
    "# get 2 instructions from the dataset\n",
    "questions = ['How to maintain marble with cracks?', 'How to remove rust stains from corroded connectors?', 'Can we use grout to fill the cracks?']\n",
    "question_inputs = tokenizer([task_prefix + question for question in questions], return_tensors=\"pt\", padding=True)\n",
    "question_inputs = question_inputs.to('cuda')"
   ]
  },
  {
   "cell_type": "code",
   "execution_count": 35,
   "metadata": {},
   "outputs": [
    {
     "name": "stderr",
     "output_type": "stream",
     "text": [
      "c:\\Users\\vmpletsos\\Anaconda3\\envs\\guide\\lib\\site-packages\\transformers\\generation\\utils.py:1313: UserWarning: Using `max_length`'s default (20) to control the generation length. This behaviour is deprecated and will be removed from the config in v5 of Transformers -- we recommend using `max_new_tokens` to control the maximum length of the generation.\n",
      "  warnings.warn(\n"
     ]
    }
   ],
   "source": [
    "output_sequences = model.generate(\n",
    "    input_ids=question_inputs[\"input_ids\"],\n",
    "    attention_mask=question_inputs[\"attention_mask\"],\n",
    "    do_sample=False,  # disable sampling to test if batching affects output\n",
    ")"
   ]
  },
  {
   "cell_type": "code",
   "execution_count": 36,
   "metadata": {},
   "outputs": [],
   "source": [
    "predicted_answers = tokenizer.batch_decode(output_sequences, skip_special_tokens=True, clean_up_tokenization_spaces=True)"
   ]
  },
  {
   "cell_type": "code",
   "execution_count": 38,
   "metadata": {},
   "outputs": [
    {
     "name": "stdout",
     "output_type": "stream",
     "text": [
      "Question: How to maintain marble with cracks?\n",
      "Answer: Maintenance of marble surfaces is done by a combination of mechanical and mechanically pressing the joints of\n",
      "\n",
      "Question: How to remove rust stains from corroded connectors?\n",
      "Answer: Removing rust stains from corroded connectors is achieved by a\n",
      "\n",
      "Question: Can we use grout to fill the cracks?\n",
      "Answer: It is reccomended that the stone which is partially cured by a groutory\n",
      "\n"
     ]
    }
   ],
   "source": [
    "for i in range(len(questions)):\n",
    "    print('Question:', questions[i])\n",
    "    print('Answer:', predicted_answers[i])\n",
    "    print('')"
   ]
  },
  {
   "cell_type": "code",
   "execution_count": null,
   "metadata": {},
   "outputs": [],
   "source": []
  }
 ],
 "metadata": {
  "kernelspec": {
   "display_name": "guide",
   "language": "python",
   "name": "python3"
  },
  "language_info": {
   "codemirror_mode": {
    "name": "ipython",
    "version": 3
   },
   "file_extension": ".py",
   "mimetype": "text/x-python",
   "name": "python",
   "nbconvert_exporter": "python",
   "pygments_lexer": "ipython3",
   "version": "3.9.16"
  },
  "orig_nbformat": 4
 },
 "nbformat": 4,
 "nbformat_minor": 2
}
