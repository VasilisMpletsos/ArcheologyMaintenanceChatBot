{
 "cells": [
  {
   "cell_type": "code",
   "execution_count": 1,
   "metadata": {},
   "outputs": [
    {
     "name": "stderr",
     "output_type": "stream",
     "text": [
      "c:\\Users\\vmpletsos\\Anaconda3\\envs\\guide\\lib\\site-packages\\tqdm\\auto.py:21: TqdmWarning: IProgress not found. Please update jupyter and ipywidgets. See https://ipywidgets.readthedocs.io/en/stable/user_install.html\n",
      "  from .autonotebook import tqdm as notebook_tqdm\n"
     ]
    }
   ],
   "source": [
    "import torch\n",
    "import re\n",
    "import logging\n",
    "import numpy as np \n",
    "import random\n",
    "import matplotlib.pyplot as plt\n",
    "\n",
    "# from torch.nn.parallel import DistributedDataParallel as DDP\n",
    "from functools import partial\n",
    "from datasets import Dataset, load_dataset\n",
    "from transformers import (\n",
    "    AutoModelForCausalLM,\n",
    "    AutoTokenizer,\n",
    "    DataCollatorForLanguageModeling,\n",
    "    PreTrainedTokenizer,\n",
    "    Trainer,\n",
    "    TrainingArguments,\n",
    ")\n",
    "from torch.optim import AdamW, Adagrad"
   ]
  },
  {
   "cell_type": "code",
   "execution_count": 2,
   "metadata": {},
   "outputs": [],
   "source": [
    "# To be added as special tokens\n",
    "INSTRUCTION_KEY = \"### Instruction:\"\n",
    "INPUT_KEY = \"Input:\"\n",
    "RESPONSE_KEY = \"### Response:\"\n",
    "END_KEY = \"### End\"\n",
    "RESPONSE_KEY_NL = f\"{RESPONSE_KEY}\\n\""
   ]
  },
  {
   "cell_type": "code",
   "execution_count": 3,
   "metadata": {},
   "outputs": [],
   "source": [
    "### name for model and tokenizer\n",
    "local_output_dir = './FineTunedDollyV2'\n",
    "\n",
    "INPUT_MODEL = \"databricks/dolly-v2-3b\"\n",
    "\n",
    "# Use the already fine-tuned model\n",
    "# INPUT_MODEL = local_output_dir\n"
   ]
  },
  {
   "cell_type": "code",
   "execution_count": 4,
   "metadata": {},
   "outputs": [],
   "source": [
    "### Model Loading\n",
    "def load_tokenizer(pretrained_model_name_or_path):\n",
    "    tokenizer = AutoTokenizer.from_pretrained(pretrained_model_name_or_path)\n",
    "    # Make the pad token the same as end of string token\n",
    "    tokenizer.pad_token = tokenizer.eos_token\n",
    "    # Add the special tokens to the tokenizer\n",
    "    tokenizer.add_special_tokens(\n",
    "        {\"additional_special_tokens\": [END_KEY, INSTRUCTION_KEY, RESPONSE_KEY_NL, RESPONSE_KEY]}\n",
    "    )\n",
    "    return tokenizer"
   ]
  },
  {
   "cell_type": "code",
   "execution_count": 5,
   "metadata": {},
   "outputs": [],
   "source": [
    "def load_model(pretrained_model_name_or_path, gradient_checkpoint):\n",
    "    model = AutoModelForCausalLM.from_pretrained(\n",
    "        pretrained_model_name_or_path, \n",
    "        torch_dtype = torch.bfloat16,\n",
    "        use_cache = False if gradient_checkpoint else True\n",
    "    )\n",
    "    return model"
   ]
  },
  {
   "cell_type": "code",
   "execution_count": 6,
   "metadata": {},
   "outputs": [],
   "source": [
    "def get_model_tokenizer(pretrained_model_name_or_path, gradient_checkpoint):\n",
    "    tokenizer = load_tokenizer(pretrained_model_name_or_path)\n",
    "    model = load_model(pretrained_model_name_or_path, gradient_checkpoint)\n",
    "    model.resize_token_embeddings(len(tokenizer))\n",
    "    return model, tokenizer\n",
    "\n",
    "model, tokenizer = get_model_tokenizer(\n",
    "    pretrained_model_name_or_path = INPUT_MODEL, \n",
    "    gradient_checkpoint = False\n",
    ")"
   ]
  },
  {
   "cell_type": "code",
   "execution_count": 7,
   "metadata": {},
   "outputs": [],
   "source": [
    "model = model.to(\"cuda\")"
   ]
  },
  {
   "cell_type": "code",
   "execution_count": 8,
   "metadata": {},
   "outputs": [],
   "source": [
    "# find max length in model configuration\n",
    "conf = model.config\n",
    "max_length = getattr(model.config, \"max_position_embeddings\", None)"
   ]
  },
  {
   "cell_type": "code",
   "execution_count": 9,
   "metadata": {},
   "outputs": [],
   "source": [
    "# training prompt that does not contain an input string.\n",
    "INTRO_BLURB = (\n",
    "    \"Below is an instruction that describes a task. Write a response that appropriately completes the request.\"\n",
    ")\n",
    "\n",
    "PROMPT_NO_INPUT_FORMAT = \"\"\"{intro}\n",
    "\n",
    "{instruction_key}\n",
    "{instruction}\n",
    "\n",
    "{response_key}\n",
    "{response}\n",
    "\n",
    "{end_key}\n",
    "\"\"\".format(\n",
    "    intro=INTRO_BLURB,\n",
    "    instruction_key=INSTRUCTION_KEY,\n",
    "    instruction=\"{instruction}\",\n",
    "    response_key=RESPONSE_KEY,\n",
    "    response=\"{response}\",\n",
    "    end_key=END_KEY,\n",
    ")\n",
    "\n",
    "\n",
    "# This is the prompt that is used for generating responses using an already trained model.  It ends with the response\n",
    "# key, where the job of the model is to provide the completion that follows it (i.e. the response itself).\n",
    "PROMPT_WITH_INPUT_FORMAT = \"\"\"{intro}\n",
    "\n",
    "{instruction_key}\n",
    "{instruction}\n",
    "\n",
    "{input_key}\n",
    "{context}\n",
    "\n",
    "{response_key}\n",
    "{response}\n",
    "\n",
    "{end_key}\n",
    "\"\"\".format(\n",
    "    intro=INTRO_BLURB,\n",
    "    instruction_key=INSTRUCTION_KEY,\n",
    "    instruction=\"{instruction}\",\n",
    "    input_key=INPUT_KEY,\n",
    "    context=\"{context}\",\n",
    "    response_key=RESPONSE_KEY,\n",
    "    response=\"{response}\",\n",
    "    end_key=END_KEY\n",
    ")\n",
    "\n"
   ]
  },
  {
   "cell_type": "code",
   "execution_count": 10,
   "metadata": {},
   "outputs": [
    {
     "name": "stderr",
     "output_type": "stream",
     "text": [
      "Found cached dataset csv (C:/Users/vmpletsos/.cache/huggingface/datasets/csv/default-f488882995b0868c/0.0.0/6b34fb8fcf56f7c8ba51dc895bfa2bfbe43546f190a60fcf74bb5e8afdcc2317)\n",
      "100%|██████████| 1/1 [00:00<00:00, 71.42it/s]\n"
     ]
    }
   ],
   "source": [
    "# Load the dataset but get first 1000 examples\n",
    "# dataset = load_dataset(\"databricks/databricks-dolly-15k\")[\"train\"].select(range(1000))\n",
    "# load dataset from csv file\n",
    "dataset = load_dataset(\"csv\", data_files=\"LLM dataset train clean.csv\")[\"train\"]"
   ]
  },
  {
   "cell_type": "code",
   "execution_count": 11,
   "metadata": {},
   "outputs": [],
   "source": [
    "instructions = dataset['instruction']\n",
    "contexts = dataset['context']\n",
    "responses = dataset['response']"
   ]
  },
  {
   "cell_type": "code",
   "execution_count": 12,
   "metadata": {},
   "outputs": [],
   "source": [
    "def format_for_LLM(rec):\n",
    "    instruction = rec[\"instruction\"]\n",
    "    response = rec[\"response\"]\n",
    "    context = rec.get(\"context\")\n",
    "    if context:\n",
    "        rec[\"text\"] = PROMPT_WITH_INPUT_FORMAT.format(\n",
    "            instruction=instruction, \n",
    "            response=response, \n",
    "            context=context\n",
    "        )\n",
    "    else:\n",
    "        rec[\"text\"] = PROMPT_NO_INPUT_FORMAT.format(\n",
    "            instruction=instruction, \n",
    "            response=response\n",
    "        )\n",
    "    return rec"
   ]
  },
  {
   "cell_type": "code",
   "execution_count": 13,
   "metadata": {},
   "outputs": [
    {
     "name": "stderr",
     "output_type": "stream",
     "text": [
      "Loading cached processed dataset at C:\\Users\\vmpletsos\\.cache\\huggingface\\datasets\\csv\\default-f488882995b0868c\\0.0.0\\6b34fb8fcf56f7c8ba51dc895bfa2bfbe43546f190a60fcf74bb5e8afdcc2317\\cache-d880a2c0cab29f33.arrow\n"
     ]
    }
   ],
   "source": [
    "dataset = dataset.map(format_for_LLM)"
   ]
  },
  {
   "cell_type": "code",
   "execution_count": 14,
   "metadata": {},
   "outputs": [
    {
     "name": "stdout",
     "output_type": "stream",
     "text": [
      "Below is an instruction that describes a task. Write a response that appropriately completes the request.\n",
      "\n",
      "### Instruction:\n",
      "What is the composition of a component with the properties of n semiconductor?\n",
      "\n",
      "Input:\n",
      "the composition of the material is a methyl methacrylate body in toluene 10% with the addition of electrolytically prepared aluminum oxide (al2o3), which is the component with the properties of n semiconductor\n",
      "\n",
      "### Response:\n",
      "Methyl methacrylate body in toluene 10% with the addition of electrolytically prepared aluminum oxide (al2o3).\n",
      "\n",
      "### End\n",
      "\n"
     ]
    }
   ],
   "source": [
    "print(dataset['text'][20])"
   ]
  },
  {
   "cell_type": "code",
   "execution_count": 15,
   "metadata": {},
   "outputs": [],
   "source": [
    "def preprocess_batch(batch, tokenizer, max_length):\n",
    "    return tokenizer(batch[\"text\"], max_length=max_length, truncation=True)"
   ]
  },
  {
   "cell_type": "code",
   "execution_count": 16,
   "metadata": {},
   "outputs": [],
   "source": [
    "preprocessing_function = partial(preprocess_batch, max_length=max_length, tokenizer=tokenizer)"
   ]
  },
  {
   "cell_type": "code",
   "execution_count": 17,
   "metadata": {},
   "outputs": [
    {
     "name": "stderr",
     "output_type": "stream",
     "text": [
      "Loading cached processed dataset at C:\\Users\\vmpletsos\\.cache\\huggingface\\datasets\\csv\\default-f488882995b0868c\\0.0.0\\6b34fb8fcf56f7c8ba51dc895bfa2bfbe43546f190a60fcf74bb5e8afdcc2317\\cache-26f3f77feff38797.arrow\n"
     ]
    }
   ],
   "source": [
    "dataset = dataset.map(\n",
    "        preprocessing_function,\n",
    "        batched=True,\n",
    "        remove_columns=[\"instruction\", \"context\", \"response\", \"text\"],\n",
    "    )"
   ]
  },
  {
   "cell_type": "code",
   "execution_count": 18,
   "metadata": {},
   "outputs": [
    {
     "name": "stderr",
     "output_type": "stream",
     "text": [
      "Loading cached processed dataset at C:\\Users\\vmpletsos\\.cache\\huggingface\\datasets\\csv\\default-f488882995b0868c\\0.0.0\\6b34fb8fcf56f7c8ba51dc895bfa2bfbe43546f190a60fcf74bb5e8afdcc2317\\cache-e5f3a64398583feb.arrow\n"
     ]
    }
   ],
   "source": [
    "# Make sure we don't have any truncated records, as this would mean the end keyword is missing.\n",
    "dataset = dataset.filter(lambda rec: len(rec[\"input_ids\"]) < max_length)\n",
    "dataset = dataset.shuffle()"
   ]
  },
  {
   "cell_type": "code",
   "execution_count": 19,
   "metadata": {},
   "outputs": [],
   "source": [
    "# make parameters not trainable\n",
    "for name, param in model.base_model.named_parameters():\n",
    "    if not re.search(r\"28|29|30|31\", name):\n",
    "        param.requires_grad = False\n",
    "    else:\n",
    "        # print(name)\n",
    "        param.requires_grad = True\n",
    "optimizer = AdamW(filter(lambda p: p.requires_grad, model.base_model.parameters()), lr=1e-5)"
   ]
  },
  {
   "cell_type": "code",
   "execution_count": 20,
   "metadata": {},
   "outputs": [],
   "source": [
    "class DataCollatorForCompletionOnlyLM(DataCollatorForLanguageModeling):\n",
    "    def torch_call(self, examples):\n",
    "        batch = super().torch_call(examples)\n",
    "\n",
    "        # The prompt ends with the response key plus a newline\n",
    "        response_token_ids = self.tokenizer.encode(RESPONSE_KEY_NL)\n",
    "        labels = batch[\"labels\"].clone()\n",
    "\n",
    "        for i in range(len(examples)):\n",
    "            response_token_ids_start_idx = None\n",
    "            for idx in np.where(batch[\"labels\"][i] == response_token_ids[0])[0]:\n",
    "                response_token_ids_start_idx = idx\n",
    "                break\n",
    "\n",
    "            if response_token_ids_start_idx is None:\n",
    "                raise RuntimeError(\n",
    "                    f'Could not find response key {response_token_ids} in token IDs {batch[\"labels\"][i]}'\n",
    "                )\n",
    "\n",
    "            response_token_ids_end_idx = response_token_ids_start_idx + 1\n",
    "\n",
    "            # loss function ignore all tokens up through the end of the response key\n",
    "            labels[i, :response_token_ids_end_idx] = -100\n",
    "\n",
    "        batch[\"labels\"] = labels\n",
    "\n",
    "        return batch"
   ]
  },
  {
   "cell_type": "code",
   "execution_count": 21,
   "metadata": {},
   "outputs": [],
   "source": [
    "data_collator = DataCollatorForCompletionOnlyLM(tokenizer=tokenizer, mlm=False, return_tensors=\"pt\", pad_to_multiple_of=8)"
   ]
  },
  {
   "cell_type": "code",
   "execution_count": 22,
   "metadata": {},
   "outputs": [],
   "source": [
    "dataset = dataset.train_test_split(0.05)"
   ]
  },
  {
   "cell_type": "code",
   "execution_count": 23,
   "metadata": {},
   "outputs": [],
   "source": [
    "training_args = TrainingArguments(\n",
    "        output_dir=local_output_dir,\n",
    "        per_device_train_batch_size=1,\n",
    "        per_device_eval_batch_size=1,\n",
    "        fp16=False,\n",
    "        bf16=True,\n",
    "        lr_scheduler_type='constant_with_warmup',\n",
    "        num_train_epochs=10,\n",
    "        deepspeed=None,\n",
    "        gradient_checkpointing=False,\n",
    "        logging_strategy=\"epoch\",\n",
    "        logging_steps=10,\n",
    "        evaluation_strategy=\"epoch\",\n",
    "        eval_steps=10,\n",
    "        load_best_model_at_end=False,\n",
    "        report_to=None,\n",
    "        disable_tqdm=True,\n",
    "        remove_unused_columns=False,\n",
    "        warmup_steps=0,\n",
    "    )\n",
    "\n",
    "trainer = Trainer(\n",
    "    model=model,\n",
    "    tokenizer=tokenizer,\n",
    "    optimizers=(optimizer, None),\n",
    "    args=training_args,\n",
    "    train_dataset=dataset[\"train\"],\n",
    "    eval_dataset=dataset[\"test\"],\n",
    "    data_collator=data_collator,\n",
    ")"
   ]
  },
  {
   "cell_type": "code",
   "execution_count": 24,
   "metadata": {},
   "outputs": [
    {
     "name": "stderr",
     "output_type": "stream",
     "text": [
      "You're using a GPTNeoXTokenizerFast tokenizer. Please note that with a fast tokenizer, using the `__call__` method is faster than using a method to encode the text followed by a call to the `pad` method to get a padded encoding.\n"
     ]
    },
    {
     "name": "stdout",
     "output_type": "stream",
     "text": [
      "{'loss': 1.4467, 'learning_rate': 1e-05, 'epoch': 1.0}\n",
      "{'eval_loss': 1.4422061443328857, 'eval_runtime': 0.5031, 'eval_samples_per_second': 15.902, 'eval_steps_per_second': 15.902, 'epoch': 1.0}\n",
      "{'loss': 0.9631, 'learning_rate': 1e-05, 'epoch': 2.0}\n",
      "{'eval_loss': 1.2545478343963623, 'eval_runtime': 0.5301, 'eval_samples_per_second': 15.092, 'eval_steps_per_second': 15.092, 'epoch': 2.0}\n",
      "{'loss': 0.8108, 'learning_rate': 1e-05, 'epoch': 3.0}\n",
      "{'eval_loss': 1.165542721748352, 'eval_runtime': 0.5151, 'eval_samples_per_second': 15.532, 'eval_steps_per_second': 15.532, 'epoch': 3.0}\n",
      "{'loss': 0.7134, 'learning_rate': 1e-05, 'epoch': 4.0}\n",
      "{'eval_loss': 1.1183483600616455, 'eval_runtime': 0.5051, 'eval_samples_per_second': 15.839, 'eval_steps_per_second': 15.839, 'epoch': 4.0}\n",
      "{'loss': 0.6461, 'learning_rate': 1e-05, 'epoch': 5.0}\n",
      "{'eval_loss': 1.1040725708007812, 'eval_runtime': 0.5311, 'eval_samples_per_second': 15.064, 'eval_steps_per_second': 15.064, 'epoch': 5.0}\n",
      "{'loss': 0.5894, 'learning_rate': 1e-05, 'epoch': 6.0}\n",
      "{'eval_loss': 1.0747630596160889, 'eval_runtime': 0.5111, 'eval_samples_per_second': 15.653, 'eval_steps_per_second': 15.653, 'epoch': 6.0}\n",
      "{'loss': 0.5475, 'learning_rate': 1e-05, 'epoch': 7.0}\n",
      "{'eval_loss': 1.0720198154449463, 'eval_runtime': 0.5101, 'eval_samples_per_second': 15.684, 'eval_steps_per_second': 15.684, 'epoch': 7.0}\n",
      "{'loss': 0.5161, 'learning_rate': 1e-05, 'epoch': 8.0}\n",
      "{'eval_loss': 1.0554964542388916, 'eval_runtime': 0.5381, 'eval_samples_per_second': 14.868, 'eval_steps_per_second': 14.868, 'epoch': 8.0}\n",
      "{'loss': 0.4805, 'learning_rate': 1e-05, 'epoch': 9.0}\n",
      "{'eval_loss': 1.0515379905700684, 'eval_runtime': 0.5131, 'eval_samples_per_second': 15.593, 'eval_steps_per_second': 15.593, 'epoch': 9.0}\n",
      "{'loss': 0.4549, 'learning_rate': 1e-05, 'epoch': 10.0}\n",
      "{'eval_loss': 1.0625791549682617, 'eval_runtime': 0.5091, 'eval_samples_per_second': 15.715, 'eval_steps_per_second': 15.715, 'epoch': 10.0}\n",
      "{'train_runtime': 207.6257, 'train_samples_per_second': 6.406, 'train_steps_per_second': 6.406, 'train_loss': 0.7168544998742584, 'epoch': 10.0}\n"
     ]
    },
    {
     "data": {
      "text/plain": [
       "TrainOutput(global_step=1330, training_loss=0.7168544998742584, metrics={'train_runtime': 207.6257, 'train_samples_per_second': 6.406, 'train_steps_per_second': 6.406, 'train_loss': 0.7168544998742584, 'epoch': 10.0})"
      ]
     },
     "execution_count": 24,
     "metadata": {},
     "output_type": "execute_result"
    }
   ],
   "source": [
    "trainer.train()"
   ]
  },
  {
   "cell_type": "code",
   "execution_count": 31,
   "metadata": {},
   "outputs": [],
   "source": [
    "# get all loss and eval loss from trainer history if loss is not None\n",
    "losses = [x['loss'] for x in trainer.state.log_history if 'loss' in x.keys()]\n",
    "eval_losses = [x['eval_loss'] for x in trainer.state.log_history if 'eval_loss' in x.keys()]"
   ]
  },
  {
   "cell_type": "code",
   "execution_count": 32,
   "metadata": {},
   "outputs": [
    {
     "data": {
      "text/plain": [
       "Text(0, 0.5, 'Loss')"
      ]
     },
     "execution_count": 32,
     "metadata": {},
     "output_type": "execute_result"
    },
    {
     "data": {
      "image/png": "[encoded data removed]",
      "text/plain": [
       "<Figure size 1000x500 with 1 Axes>"
      ]
     },
     "metadata": {},
     "output_type": "display_data"
    }
   ],
   "source": [
    "plt.figure(figsize=(10, 5))\n",
    "plt.plot(losses)\n",
    "plt.plot(eval_losses)\n",
    "plt.legend(['Train Loss', 'Eval Loss'])\n",
    "plt.xlabel('Epochs')\n",
    "plt.ylabel('Loss')"
   ]
  },
  {
   "cell_type": "code",
   "execution_count": 33,
   "metadata": {},
   "outputs": [],
   "source": [
    "PROMPT_FOR_GENERATION_FORMAT = \"\"\"{intro}\n",
    "\n",
    "{instruction_key}\n",
    "{instruction}\n",
    "\n",
    "{response_key}\n",
    "\"\"\".format(\n",
    "    intro=INTRO_BLURB,\n",
    "    instruction_key=INSTRUCTION_KEY,\n",
    "    instruction=\"{instruction}\",\n",
    "    response_key=RESPONSE_KEY,\n",
    ")\n",
    "\n",
    "\n",
    "# This is the prompt that is used for generating responses using an already trained model.  It ends with the response\n",
    "# key, where the job of the model is to provide the completion that follows it (i.e. the response itself).\n",
    "PROMPT_FOR_GENERATION_FORMAT_WITH_INPUT = \"\"\"{intro}\n",
    "\n",
    "{instruction_key}\n",
    "{instruction}\n",
    "\n",
    "{input_key}\n",
    "{context}\n",
    "\n",
    "{response_key}\n",
    "\"\"\".format(\n",
    "    intro=INTRO_BLURB,\n",
    "    instruction_key=INSTRUCTION_KEY,\n",
    "    instruction=\"{instruction}\",\n",
    "    input_key=INPUT_KEY,\n",
    "    context=\"{context}\",\n",
    "    response_key=RESPONSE_KEY,\n",
    ")"
   ]
  },
  {
   "cell_type": "code",
   "execution_count": 34,
   "metadata": {},
   "outputs": [],
   "source": [
    "def get_special_token_id(tokenizer: PreTrainedTokenizer, key: str) -> int:\n",
    "    \"\"\"Gets the token ID for a given string that has been added to the tokenizer as a special token.\n",
    "    When training, we configure the tokenizer so that the sequences like \"### Instruction:\" and \"### End\" are\n",
    "    treated specially and converted to a single, new token.  This retrieves the token ID each of these keys map to.\n",
    "    Args:\n",
    "        tokenizer (PreTrainedTokenizer): the tokenizer\n",
    "        key (str): the key to convert to a single token\n",
    "    Raises:\n",
    "        RuntimeError: if more than one ID was generated\n",
    "    Returns:\n",
    "        int: the token ID for the given key\n",
    "    \"\"\"\n",
    "    token_ids = tokenizer.encode(key)\n",
    "    if len(token_ids) > 1:\n",
    "        raise ValueError(f\"Expected only a single token for '{key}' but found {token_ids}\")\n",
    "    return token_ids[0]\n",
    "\n",
    "def preprocess(tokenizer, instruction_text, context_text=None):\n",
    "    if context_text:\n",
    "        prompt_text = PROMPT_FOR_GENERATION_FORMAT_WITH_INPUT.format(instruction=instruction_text, context=context_text)\n",
    "    else:\n",
    "        prompt_text = PROMPT_FOR_GENERATION_FORMAT.format(instruction=instruction_text)\n",
    "    print(prompt_text)\n",
    "    inputs = tokenizer(prompt_text, return_tensors=\"pt\",)\n",
    "    inputs[\"prompt_text\"] = prompt_text\n",
    "    inputs[\"instruction_text\"] = instruction_text\n",
    "    inputs[\"context_text\"] = context_text\n",
    "    return inputs\n",
    "\n",
    "def forward(model, tokenizer, model_inputs, max_length=256):\n",
    "    input_ids = model_inputs[\"input_ids\"]\n",
    "    attention_mask = model_inputs.get(\"attention_mask\", None)\n",
    "\n",
    "    if input_ids.shape[1] == 0:\n",
    "        input_ids = None\n",
    "        attention_mask = None\n",
    "        in_b = 1\n",
    "    else:\n",
    "        in_b = input_ids.shape[0]\n",
    "\n",
    "    generated_sequence = model.generate(\n",
    "        input_ids=input_ids.to(model.device),\n",
    "        attention_mask=attention_mask.to(model.device),\n",
    "        pad_token_id=tokenizer.pad_token_id,\n",
    "        max_length=max_length\n",
    "    )\n",
    "\n",
    "    out_b = generated_sequence.shape[0]\n",
    "    generated_sequence = generated_sequence.reshape(in_b, out_b // in_b, *generated_sequence.shape[1:])\n",
    "    instruction_text = model_inputs.pop(\"instruction_text\", None)\n",
    "\n",
    "    return {\n",
    "        \"generated_sequence\": generated_sequence, \n",
    "        \"input_ids\": input_ids,\n",
    "    }\n",
    "\n",
    "\n",
    "def postprocess(tokenizer, model_outputs):\n",
    "    response_key_token_id = get_special_token_id(tokenizer, RESPONSE_KEY_NL)\n",
    "    end_key_token_id = get_special_token_id(tokenizer, END_KEY)\n",
    "    generated_sequence = model_outputs[\"generated_sequence\"][0]\n",
    "    \n",
    "    # send it to cpu\n",
    "    generated_sequence = generated_sequence.cpu()\n",
    "    generated_sequence = generated_sequence.numpy().tolist()\n",
    "    records = []\n",
    "\n",
    "    for sequence in generated_sequence:\n",
    "        decoded = None\n",
    "\n",
    "        try:\n",
    "            response_pos = sequence.index(response_key_token_id)\n",
    "        except ValueError:\n",
    "            print(f\"Could not find response key {response_key_token_id} in: {sequence}\")\n",
    "            response_pos = None\n",
    "\n",
    "        if response_pos:\n",
    "            try:\n",
    "                end_pos = sequence.index(end_key_token_id)\n",
    "            except ValueError:\n",
    "                print(\"Could not find end key, the output is truncated!\")\n",
    "                end_pos = None\n",
    "            decoded = tokenizer.decode(sequence[response_pos + 1 : end_pos], skip_special_tokens=True).strip()\n",
    "            \n",
    "        if not decoded:\n",
    "            # Otherwise we'll decode everything and use a regex to find the response and end.\n",
    "\n",
    "            fully_decoded = tokenizer.decode(sequence)\n",
    "            # The response appears after \"### Response:\".  The model has been trained to append \"### End\" at the\n",
    "            # end.\n",
    "            m = re.search(r\"#+\\s*Response:\\s*(.+?)#+\\s*End\", fully_decoded, flags=re.DOTALL)\n",
    "            if m:\n",
    "                decoded = m.group(1).strip()\n",
    "            else:\n",
    "                # The model might not generate the \"### End\" sequence before reaching the max tokens.  In this case,\n",
    "                # return everything after \"### Response:\".\n",
    "                m = re.search(r\"#+\\s*Response:\\s*(.+)\", fully_decoded, flags=re.DOTALL)\n",
    "                if m:\n",
    "                    decoded = m.group(1).strip()\n",
    "                else:\n",
    "                    print(f\"Failed to find response in:\\n{fully_decoded}\")\n",
    "            \n",
    "            \n",
    "        rec = {\"generated_text\": decoded}\n",
    "        records.append(rec)\n",
    "    return records"
   ]
  },
  {
   "cell_type": "code",
   "execution_count": 44,
   "metadata": {},
   "outputs": [
    {
     "name": "stdout",
     "output_type": "stream",
     "text": [
      "Below is an instruction that describes a task. Write a response that appropriately completes the request.\n",
      "\n",
      "### Instruction:\n",
      "Is acid rain good for mable?\n",
      "\n",
      "### Response:\n",
      "\n",
      "LLM response:  Yes it is.\n",
      "Actual response:  Acids react with the calcium carbonate in marble, producing carbonic acid and other soluble salts resulting in carbonation, sulfation or the formation of \"black crust\".\n"
     ]
    }
   ],
   "source": [
    "i = 35\n",
    "use_context = False\n",
    "text = \"Is acid rain good for mable?\"\n",
    "# text = instructions[i]\n",
    "context = contexts[i]\n",
    "actual_response = responses[i]\n",
    "if use_context:\n",
    "    pre_process_result = preprocess(tokenizer, text, context)\n",
    "else:\n",
    "    pre_process_result = preprocess(tokenizer, text)\n",
    "model_result = forward(model, tokenizer, pre_process_result)\n",
    "final_output = postprocess(tokenizer, model_result);\n",
    "print('LLM response: ', final_output[0]['generated_text'])\n",
    "print('Actual response: ', actual_response)"
   ]
  },
  {
   "cell_type": "code",
   "execution_count": 30,
   "metadata": {},
   "outputs": [],
   "source": [
    "trainer.save_model(output_dir=local_output_dir);\n",
    "tokenizer.save_pretrained(local_output_dir);"
   ]
  },
  {
   "cell_type": "code",
   "execution_count": null,
   "metadata": {},
   "outputs": [],
   "source": []
  }
 ],
 "metadata": {
  "kernelspec": {
   "display_name": "guide",
   "language": "python",
   "name": "python3"
  },
  "language_info": {
   "codemirror_mode": {
    "name": "ipython",
    "version": 3
   },
   "file_extension": ".py",
   "mimetype": "text/x-python",
   "name": "python",
   "nbconvert_exporter": "python",
   "pygments_lexer": "ipython3",
   "version": "3.9.16"
  },
  "orig_nbformat": 4
 },
 "nbformat": 4,
 "nbformat_minor": 2
}
